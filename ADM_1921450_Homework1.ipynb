{
 "cells": [
  {
   "cell_type": "markdown",
   "metadata": {},
   "source": [
    "#### Say \"Hello, World!\" With Python"
   ]
  },
  {
   "cell_type": "code",
   "execution_count": 1,
   "metadata": {},
   "outputs": [
    {
     "name": "stdout",
     "output_type": "stream",
     "text": [
      "Hello, World!\n"
     ]
    }
   ],
   "source": [
    "print(\"Hello, World!\")"
   ]
  },
  {
   "cell_type": "markdown",
   "metadata": {},
   "source": [
    "#### Python If-Else"
   ]
  },
  {
   "cell_type": "code",
   "execution_count": null,
   "metadata": {},
   "outputs": [],
   "source": [
    "#!/bin/python3\n",
    "import math\n",
    "import os\n",
    "import random\n",
    "import re\n",
    "import sys\n",
    "if __name__ == '__main__':\n",
    "    n = int(input().strip())\n",
    "\n",
    "if(n%2==1):\n",
    "    print(\"Weird\")\n",
    "else:\n",
    "    if(n>=2 and n<=5):\n",
    "        print(\"Not Weird\")\n",
    "    elif(n>=6 and n<=20):\n",
    "        print(\"Weird\")\n",
    "    else:\n",
    "        print(\"Not Weird\")"
   ]
  },
  {
   "cell_type": "markdown",
   "metadata": {},
   "source": [
    "#### Arithmetic Operators"
   ]
  },
  {
   "cell_type": "code",
   "execution_count": null,
   "metadata": {},
   "outputs": [],
   "source": [
    "if __name__ == '__main__':\n",
    "    a = int(input())\n",
    "    b = int(input())\n",
    "print(a+b)\n",
    "print(a-b)\n",
    "print(a*b)"
   ]
  },
  {
   "cell_type": "markdown",
   "metadata": {},
   "source": [
    "#### Python: Division"
   ]
  },
  {
   "cell_type": "code",
   "execution_count": null,
   "metadata": {},
   "outputs": [],
   "source": [
    "if __name__ == '__main__':\n",
    "    a = int(input())\n",
    "    b = int(input())\n",
    "\n",
    "print (a//b)\n",
    "print (a/b)"
   ]
  },
  {
   "cell_type": "markdown",
   "metadata": {},
   "source": [
    "#### Loops"
   ]
  },
  {
   "cell_type": "code",
   "execution_count": null,
   "metadata": {},
   "outputs": [],
   "source": [
    "if __name__ == '__main__':\n",
    "    n = int(input())\n",
    "\n",
    "for i in range(0,n):\n",
    "    print(i**2)"
   ]
  },
  {
   "cell_type": "markdown",
   "metadata": {},
   "source": [
    "#### Write a function"
   ]
  },
  {
   "cell_type": "code",
   "execution_count": null,
   "metadata": {},
   "outputs": [],
   "source": [
    "def is_leap(year):\n",
    "    leap = False\n",
    "    \n",
    "    if(year%4==0):\n",
    "        if(year%100==0):\n",
    "            if(year%400==0):\n",
    "                leap = True\n",
    "            else:\n",
    "                pass\n",
    "        else:\n",
    "            leap = True\n",
    "    else:\n",
    "        pass\n",
    "    return leap"
   ]
  },
  {
   "cell_type": "markdown",
   "metadata": {},
   "source": [
    "#### Print Function"
   ]
  },
  {
   "cell_type": "code",
   "execution_count": null,
   "metadata": {},
   "outputs": [],
   "source": [
    "if __name__ == '__main__':\n",
    "    n = int(input())\n",
    "\n",
    "for i in range (1,n+1):\n",
    "    print(i,end=\"\")"
   ]
  },
  {
   "cell_type": "markdown",
   "metadata": {},
   "source": [
    "#### List Comprehensions"
   ]
  },
  {
   "cell_type": "code",
   "execution_count": null,
   "metadata": {},
   "outputs": [],
   "source": [
    "if __name__ == '__main__':\n",
    "    x = int(input())\n",
    "    y = int(input())\n",
    "    z = int(input())\n",
    "    n = int(input())\n",
    "\n",
    "print([[i,j,k] for i in range(0,x+1) for j in range(0,y+1) for k in range(0,z+1) if((i+j+k)!=n)])"
   ]
  },
  {
   "cell_type": "markdown",
   "metadata": {},
   "source": [
    "#### Find the Runner-Up Score!"
   ]
  },
  {
   "cell_type": "code",
   "execution_count": null,
   "metadata": {},
   "outputs": [],
   "source": [
    "if __name__ == '__main__':\n",
    "    n = int(input())\n",
    "    arr = map(int, input().split())\n",
    "arr1 = list(arr)\n",
    "m = max(arr1)\n",
    "arr1 = [i for i in arr1 if i!=m]\n",
    "n = max(arr1)\n",
    "print(n)"
   ]
  },
  {
   "cell_type": "markdown",
   "metadata": {},
   "source": [
    "#### Nested List"
   ]
  },
  {
   "cell_type": "code",
   "execution_count": null,
   "metadata": {},
   "outputs": [],
   "source": [
    "student_marksheet=[]\n",
    "if __name__ == '__main__':\n",
    "    n=int(input())\n",
    "    for i in range(0,n):\n",
    "        name = input()\n",
    "        score = float(input())\n",
    "        student_marksheet.append([name,score])\n",
    "\n",
    "sorted_marksheet = sorted(student_marksheet,key = lambda x : x[1])\n",
    "lowest = min(sorted_marksheet,key = lambda x :x[1])[1]\n",
    "sorted_marksheet = [i for i in sorted_marksheet if i[1]!=lowest]\n",
    "if len(sorted_marksheet) >0 :\n",
    "    second_lowest_mark = min(sorted_marksheet,key = lambda x :x[1])[1]\n",
    "else:\n",
    "    second_lowest_mark = -1\n",
    "result=[]\n",
    "for i in range (0,n):\n",
    "    if student_marksheet[i][1]==second_lowest_mark :\n",
    "        result.append(student_marksheet[i][0])\n",
    "result = sorted(result)\n",
    "for name in result:\n",
    "    print(name)"
   ]
  },
  {
   "cell_type": "markdown",
   "metadata": {},
   "source": [
    "#### Finding the Percentage"
   ]
  },
  {
   "cell_type": "code",
   "execution_count": null,
   "metadata": {},
   "outputs": [],
   "source": [
    "if __name__ == '__main__':\n",
    "    n = int(input())\n",
    "    student_marks = {}\n",
    "    for _ in range(n):\n",
    "        name, *line = input().split()\n",
    "        scores = list(map(float, line))\n",
    "        student_marks[name] = scores\n",
    "    query_name = input()\n",
    "average=0\n",
    "for key in student_marks:\n",
    "    if(query_name==key):\n",
    "        total=0\n",
    "        for i in student_marks[key]:\n",
    "            total+=i\n",
    "        average = round(total/len(student_marks[key]),2)\n",
    "        average = format(average,'.2f')\n",
    "print(average)"
   ]
  },
  {
   "cell_type": "markdown",
   "metadata": {},
   "source": [
    "#### Lists"
   ]
  },
  {
   "cell_type": "code",
   "execution_count": null,
   "metadata": {},
   "outputs": [],
   "source": [
    "if __name__ == '__main__':\n",
    "    N = int(input())\n",
    "user_input = []\n",
    "l = []\n",
    "for i in range(N):\n",
    "    read = input().split(\" \")\n",
    "    user_input.append(read)\n",
    "for i in range(0,N):\n",
    "    if((user_input[i][0]).casefold()==\"insert\"):\n",
    "        l.insert(int(user_input[i][1]),int(user_input[i][2]))\n",
    "    elif((user_input[i][0]).casefold()==\"print\"):\n",
    "        print(l)\n",
    "    elif((user_input[i][0]).casefold()==\"remove\"):\n",
    "        l.remove(int(user_input[i][1]))\n",
    "    elif((user_input[i][0]).casefold()==\"append\"):\n",
    "        l.append(int(user_input[i][1]))\n",
    "    elif((user_input[i][0]).casefold()==\"sort\"):\n",
    "        l.sort()\n",
    "    elif((user_input[i][0]).casefold()==\"pop\"):\n",
    "        l.pop()\n",
    "    elif((user_input[i][0]).casefold()==\"reverse\"):\n",
    "        l.reverse()"
   ]
  },
  {
   "cell_type": "markdown",
   "metadata": {},
   "source": [
    "#### Tuples"
   ]
  },
  {
   "cell_type": "code",
   "execution_count": null,
   "metadata": {},
   "outputs": [],
   "source": [
    "if __name__ == '__main__':\n",
    "    n = int(input())\n",
    "    integer_list = map(int, input().split())\n",
    "t = tuple(integer_list)\n",
    "\n",
    "print(hash(t))"
   ]
  },
  {
   "cell_type": "markdown",
   "metadata": {},
   "source": [
    "#### sWAP cASE"
   ]
  },
  {
   "cell_type": "code",
   "execution_count": null,
   "metadata": {},
   "outputs": [],
   "source": [
    "def swap_case(s):\n",
    "    string = list(s)\n",
    "    for i in range(0,len(string)):\n",
    "        if string[i].islower():\n",
    "            string[i]=s[i].upper()\n",
    "        elif string[i].isupper():\n",
    "            string[i]=s[i].lower()   \n",
    "        else:\n",
    "            pass\n",
    "    s = \"\".join(string)     \n",
    "    return s"
   ]
  },
  {
   "cell_type": "markdown",
   "metadata": {},
   "source": [
    "#### String split and join"
   ]
  },
  {
   "cell_type": "code",
   "execution_count": null,
   "metadata": {},
   "outputs": [],
   "source": [
    "def split_and_join(line):\n",
    "    line = line.split(\" \")\n",
    "    line = \"-\".join(line)\n",
    "    return line"
   ]
  },
  {
   "cell_type": "markdown",
   "metadata": {},
   "source": [
    "#### What's your name?"
   ]
  },
  {
   "cell_type": "code",
   "execution_count": null,
   "metadata": {},
   "outputs": [],
   "source": [
    "def print_full_name(a, b):\n",
    "    print(\"Hello \"+a+\" \"+b+\"! You just delved into python.\")"
   ]
  },
  {
   "cell_type": "markdown",
   "metadata": {},
   "source": [
    "#### Mutations"
   ]
  },
  {
   "cell_type": "code",
   "execution_count": null,
   "metadata": {},
   "outputs": [],
   "source": [
    "def mutate_string(string, position, character):\n",
    "    string = list(string)\n",
    "    string[position]=character\n",
    "    string = \"\".join(string)\n",
    "    return string"
   ]
  },
  {
   "cell_type": "markdown",
   "metadata": {},
   "source": [
    "#### Find a string"
   ]
  },
  {
   "cell_type": "code",
   "execution_count": null,
   "metadata": {},
   "outputs": [],
   "source": [
    "def count_substring(string, sub_string):\n",
    "    ls = len(string)\n",
    "    lss = len(sub_string)\n",
    "    count=0\n",
    "    for i in range(0,ls):\n",
    "        if(i+lss <= ls):\n",
    "            if(string[i:i+lss]==sub_string):\n",
    "                count+=1\n",
    "        else:\n",
    "            break\n",
    "    return count"
   ]
  },
  {
   "cell_type": "markdown",
   "metadata": {},
   "source": [
    "#### String Validators"
   ]
  },
  {
   "cell_type": "code",
   "execution_count": null,
   "metadata": {},
   "outputs": [],
   "source": [
    "if __name__ == '__main__':\n",
    "    s = input()\n",
    "alnum = False\n",
    "alpha = False\n",
    "digit = False\n",
    "lower = False\n",
    "upper = False\n",
    "for i in s:\n",
    "    if(i.isdigit()):\n",
    "        digit = True\n",
    "    elif(i.isalpha()):\n",
    "        alpha = True\n",
    "        if(i.islower()):\n",
    "            lower = True\n",
    "        elif(i.isupper()):\n",
    "            upper = True\n",
    "    else:\n",
    "        pass\n",
    "if(alpha == True or digit == True):\n",
    "    alnum = True\n",
    "print (alnum)\n",
    "print (alpha)\n",
    "print (digit)\n",
    "print (lower)\n",
    "print (upper)"
   ]
  },
  {
   "cell_type": "markdown",
   "metadata": {},
   "source": [
    "#### Text Alignment"
   ]
  },
  {
   "cell_type": "code",
   "execution_count": null,
   "metadata": {},
   "outputs": [],
   "source": [
    "#Replace all ______ with rjust, ljust or center. \n",
    "\n",
    "thickness = int(input()) #This must be an odd number\n",
    "c = 'H'\n",
    "\n",
    "#Top Cone\n",
    "for i in range(thickness):\n",
    "    print((c*i).rjust(thickness-1)+c+(c*i).ljust(thickness-1))\n",
    "\n",
    "#Top Pillars\n",
    "for i in range(thickness+1):\n",
    "    print((c*thickness).center(thickness*2)+(c*thickness).center(thickness*6))\n",
    "\n",
    "#Middle Belt\n",
    "for i in range((thickness+1)//2):\n",
    "    print((c*thickness*5).center(thickness*6))    \n",
    "\n",
    "#Bottom Pillars\n",
    "for i in range(thickness+1):\n",
    "    print((c*thickness).center(thickness*2)+(c*thickness).center(thickness*6))    \n",
    "\n",
    "#Bottom Cone\n",
    "for i in range(thickness):\n",
    "    print(((c*(thickness-i-1)).rjust(thickness)+c+(c*(thickness-i-1)).ljust(thickness)).rjust(thickness*6))"
   ]
  },
  {
   "cell_type": "markdown",
   "metadata": {},
   "source": [
    "#### Text Wrap"
   ]
  },
  {
   "cell_type": "code",
   "execution_count": null,
   "metadata": {},
   "outputs": [],
   "source": [
    "def wrap(string, max_width):\n",
    "    para = textwrap.fill(string,max_width)\n",
    "    return para"
   ]
  },
  {
   "cell_type": "markdown",
   "metadata": {},
   "source": [
    "#### Design Door Mat"
   ]
  },
  {
   "cell_type": "code",
   "execution_count": null,
   "metadata": {},
   "outputs": [],
   "source": [
    "# Enter your code here. Read input from STDIN. Print output to STDOUT\n",
    "N,M = (input().split())\n",
    "N = int(N)\n",
    "M = int(M)\n",
    "c = \".|.\"\n",
    "s =\"-\"\n",
    "for i in range (N//2):\n",
    "    print ((c*i).rjust((M-3)//2,s)+c+(c*i).ljust((M-3)//2,s))\n",
    "\n",
    "print(\"WELCOME\".center(M,s))\n",
    "\n",
    "for i in range (N//2-1,-1,-1):\n",
    "    print ((c*i).rjust((M-3)//2,s)+c+(c*i).ljust((M-3)//2,s))"
   ]
  },
  {
   "cell_type": "markdown",
   "metadata": {},
   "source": [
    "#### String Formatting"
   ]
  },
  {
   "cell_type": "code",
   "execution_count": null,
   "metadata": {},
   "outputs": [],
   "source": [
    "def print_formatted(number):\n",
    "    width = len(\"{0:b}\".format(number))\n",
    "    for i in range (1,number+1):\n",
    "        print(\"{0:{width}d} {0:{width}o} {0:{width}X} {0:{width}b}\".format(i,width=width))"
   ]
  },
  {
   "cell_type": "markdown",
   "metadata": {},
   "source": [
    "#### String Rangoli"
   ]
  },
  {
   "cell_type": "code",
   "execution_count": null,
   "metadata": {},
   "outputs": [],
   "source": [
    "def print_rangoli(size):\n",
    "    # your code goes here\n",
    "    alphabet = \"abcdefghijklmnopqrstuvwxyz\"\n",
    "    alpha = list(alphabet[0:size])\n",
    "    alpha.reverse()\n",
    "    length = size + (size-1)+(size-1)*2\n",
    "    string =\"\"\n",
    "    temp =[]\n",
    "    temp1 = []\n",
    "    for i in range (1,size+1):\n",
    "        temp = alpha[:i]\n",
    "        temp1 = temp[:(i-1)]\n",
    "        temp1.reverse()\n",
    "        string = \"-\".join(temp+temp1)\n",
    "        print(string.center(length,\"-\"))\n",
    "    for i in range (size-1,0,-1):\n",
    "        temp = alpha[:i]\n",
    "        temp1 = temp[:(i-1)]\n",
    "        temp1.reverse()\n",
    "        string = \"-\".join(temp+temp1)\n",
    "        print(string.center(length,\"-\"))"
   ]
  },
  {
   "cell_type": "markdown",
   "metadata": {},
   "source": [
    "#### Capitalize!"
   ]
  },
  {
   "cell_type": "code",
   "execution_count": null,
   "metadata": {},
   "outputs": [],
   "source": [
    "# Complete the solve function below.\n",
    "def solve(s):\n",
    "    s =  s.split(\" \")\n",
    "    for i in range(0,len(s)):\n",
    "        s[i]=s[i].capitalize()\n",
    "    s = \" \".join(s)   \n",
    "    return s"
   ]
  },
  {
   "cell_type": "markdown",
   "metadata": {},
   "source": [
    "#### The Minion Game"
   ]
  },
  {
   "cell_type": "code",
   "execution_count": null,
   "metadata": {},
   "outputs": [],
   "source": [
    "def minion_game(string):\n",
    "    # your code goes here\n",
    "    Stuart =0\n",
    "    Kevin = 0\n",
    "    for i in range (0,len(string)):\n",
    "        if string[i] not in \"AEIOU\":\n",
    "            Stuart+=len(string)-i\n",
    "        else:\n",
    "            Kevin+=len(string)-i\n",
    "\n",
    "    if(Kevin == Stuart):\n",
    "        print(\"Draw\")\n",
    "    elif(Kevin > Stuart):\n",
    "        print(\"Kevin\",Kevin)\n",
    "    else:\n",
    "        print(\"Stuart\",Stuart)"
   ]
  },
  {
   "cell_type": "markdown",
   "metadata": {},
   "source": [
    "#### Merge the Tools!"
   ]
  },
  {
   "cell_type": "code",
   "execution_count": null,
   "metadata": {},
   "outputs": [],
   "source": [
    "from collections import OrderedDict\n",
    "def merge_the_tools(string, k):\n",
    "    # your code goes here\n",
    "    t = [string[i:i + k] for i in range(0, len(string), k)]\n",
    "\n",
    "    for i in range (0,len(t)):\n",
    "        print(\"\".join(OrderedDict.fromkeys(t[i])))"
   ]
  },
  {
   "cell_type": "markdown",
   "metadata": {},
   "source": [
    "#### Introduction to Sets"
   ]
  },
  {
   "cell_type": "code",
   "execution_count": null,
   "metadata": {},
   "outputs": [],
   "source": [
    "def average(array):\n",
    "    # your code goes here\n",
    "    array = set(array)\n",
    "    return (sum(array)/len(array))"
   ]
  },
  {
   "cell_type": "markdown",
   "metadata": {},
   "source": [
    "#### Group(), Groups() & Groupdict()"
   ]
  },
  {
   "cell_type": "code",
   "execution_count": null,
   "metadata": {},
   "outputs": [],
   "source": [
    "# Enter your code here. Read input from STDIN. Print output to STDOUT\n",
    "import re\n",
    "string = input()\n",
    "a = re.search(r\"([0-9 a-z A-Z])\\1\", string)\n",
    "if (a):\n",
    "    print(a.group(1))\n",
    "else :\n",
    "    print(-1)"
   ]
  },
  {
   "cell_type": "markdown",
   "metadata": {},
   "source": [
    "#### Birthday Cake Candles"
   ]
  },
  {
   "cell_type": "code",
   "execution_count": null,
   "metadata": {},
   "outputs": [],
   "source": [
    "#!/bin/python3\n",
    "\n",
    "import math\n",
    "import os\n",
    "import random\n",
    "import re\n",
    "import sys\n",
    "\n",
    "# Complete the birthdayCakeCandles function below.\n",
    "def birthdayCakeCandles(ar):\n",
    "    m = max(ar)\n",
    "    return ar.count(m)\n",
    "\n",
    "if __name__ == '__main__':\n",
    "    fptr = open(os.environ['OUTPUT_PATH'], 'w')\n",
    "\n",
    "    ar_count = int(input())\n",
    "\n",
    "    ar = list(map(int, input().rstrip().split()))\n",
    "\n",
    "    result = birthdayCakeCandles(ar)\n",
    "\n",
    "    fptr.write(str(result) + '\\n')\n",
    "\n",
    "    fptr.close()"
   ]
  },
  {
   "cell_type": "markdown",
   "metadata": {},
   "source": [
    "#### No Idea!"
   ]
  },
  {
   "cell_type": "code",
   "execution_count": null,
   "metadata": {},
   "outputs": [],
   "source": [
    "# Enter your code here. Read input from STDIN. Print output to STDOUT\n",
    "n,m = (input().split())\n",
    "Array = (input().split())\n",
    "A = set((input().split()))\n",
    "B = set((input().split()))\n",
    "happiness =0\n",
    "for i in Array:\n",
    "    if i in A:\n",
    "        happiness+=1\n",
    "    elif i in B:\n",
    "        happiness-=1\n",
    "print(happiness)"
   ]
  },
  {
   "cell_type": "markdown",
   "metadata": {},
   "source": [
    "#### Symmetric Difference"
   ]
  },
  {
   "cell_type": "code",
   "execution_count": null,
   "metadata": {},
   "outputs": [],
   "source": [
    "# Enter your code here. Read input from STDIN. Print output to STDOUT\n",
    "m = input()\n",
    "M = set(map(int,input().split()))\n",
    "n = input()\n",
    "N = set(map(int,input().split()))\n",
    "result= list(M.difference(N).union(N.difference(M)))\n",
    "result.sort()\n",
    "for i in result:\n",
    "    print(i)"
   ]
  },
  {
   "cell_type": "markdown",
   "metadata": {},
   "source": [
    "#### Set .add()"
   ]
  },
  {
   "cell_type": "code",
   "execution_count": null,
   "metadata": {},
   "outputs": [],
   "source": [
    "# Enter your code here. Read input from STDIN. Print output to STDOUT\n",
    "N = int(input())\n",
    "S = set([input() for i in range(N)])\n",
    "print(len(S))"
   ]
  },
  {
   "cell_type": "markdown",
   "metadata": {},
   "source": [
    "#### Set .discard(), .remove() & .pop()"
   ]
  },
  {
   "cell_type": "code",
   "execution_count": null,
   "metadata": {},
   "outputs": [],
   "source": [
    "n = int(input())\n",
    "s = set(map(int, input().split()))\n",
    "N = int(input())\n",
    "for i in range(N):\n",
    "    line = input().split()\n",
    "    if(line[0].casefold()=='remove'):\n",
    "        s.remove(int(line[1]))\n",
    "    elif(line[0].casefold()=='pop'):\n",
    "        s.pop()\n",
    "    elif(line[0].casefold()=='discard'):\n",
    "        s.discard(int(line[1]))\n",
    "print(sum(s))"
   ]
  },
  {
   "cell_type": "markdown",
   "metadata": {},
   "source": [
    "#### Set .union() Operation"
   ]
  },
  {
   "cell_type": "code",
   "execution_count": null,
   "metadata": {},
   "outputs": [],
   "source": [
    "# Enter your code here. Read input from STDIN. Print output to STDOUT\n",
    "ne =  int(input())\n",
    "E = set(map(int,input().split()))\n",
    "nf =  int(input())\n",
    "F = set(map(int,input().split()))\n",
    "print(len(E.union(F)))"
   ]
  },
  {
   "cell_type": "markdown",
   "metadata": {},
   "source": [
    "#### Set .intersection() Operation"
   ]
  },
  {
   "cell_type": "code",
   "execution_count": null,
   "metadata": {},
   "outputs": [],
   "source": [
    "# Enter your code here. Read input from STDIN. Print output to STDOUT\n",
    "ne =  int(input())\n",
    "E = set(map(int,input().split()))\n",
    "nf =  int(input())\n",
    "F = set(map(int,input().split()))\n",
    "print(len(E & F))"
   ]
  },
  {
   "cell_type": "markdown",
   "metadata": {},
   "source": [
    "#### Set .difference() Operation"
   ]
  },
  {
   "cell_type": "code",
   "execution_count": null,
   "metadata": {},
   "outputs": [],
   "source": [
    "# Enter your code here. Read input from STDIN. Print output to STDOUT\n",
    "ne =  int(input())\n",
    "E = set(map(int,input().split()))\n",
    "nf =  int(input())\n",
    "F = set(map(int,input().split()))\n",
    "print(len(E-F))"
   ]
  },
  {
   "cell_type": "markdown",
   "metadata": {},
   "source": [
    "#### Set .symmetric_difference() Operation"
   ]
  },
  {
   "cell_type": "code",
   "execution_count": null,
   "metadata": {},
   "outputs": [],
   "source": [
    "# Enter your code here. Read input from STDIN. Print output to STDOUT\n",
    "ne =  int(input())\n",
    "E = set(map(int,input().split()))\n",
    "nf =  int(input())\n",
    "F = set(map(int,input().split()))\n",
    "print(len(E^F))"
   ]
  },
  {
   "cell_type": "markdown",
   "metadata": {},
   "source": [
    "#### Set Mutations"
   ]
  },
  {
   "cell_type": "code",
   "execution_count": null,
   "metadata": {},
   "outputs": [],
   "source": [
    "# Enter your code here. Read input from STDIN. Print output to STDOUT\n",
    "n = int(input())\n",
    "A = set(map(int,input().split()))\n",
    "N = int(input())\n",
    "for i in range(N):\n",
    "    line = input().split()\n",
    "    if(line[0].casefold()=='update'):\n",
    "        A.update(set(map(int,input().split())))\n",
    "    elif(line[0].casefold()=='intersection_update'):\n",
    "        A&=(set(map(int,input().split())))\n",
    "    elif(line[0].casefold()=='difference_update'):\n",
    "        A-=(set(map(int,input().split())))\n",
    "    elif(line[0].casefold()=='symmetric_difference_update'):\n",
    "        A^=(set(map(int,input().split())))\n",
    "print(sum(A))"
   ]
  },
  {
   "cell_type": "markdown",
   "metadata": {},
   "source": [
    "#### The Captain's Room"
   ]
  },
  {
   "cell_type": "code",
   "execution_count": null,
   "metadata": {},
   "outputs": [],
   "source": [
    "# Enter your code here. Read input from STDIN. Print output to STDOUT\n",
    "K = int(input())\n",
    "room = list(map(int,input().split()))\n",
    "roomset = set(room)\n",
    "#mathematical solution : room number(including coach) multiply by number of persons subract by sum of given room numbers will have left by coach room number*K by diving K-1 we will get the coach room number.\n",
    "print((sum(roomset)*K - sum(room))//(K-1) )"
   ]
  },
  {
   "cell_type": "markdown",
   "metadata": {},
   "source": [
    "#### Check Subset"
   ]
  },
  {
   "cell_type": "code",
   "execution_count": null,
   "metadata": {},
   "outputs": [],
   "source": [
    "# Enter your code here. Read input from STDIN. Print output to STDOUT\n",
    "n = int(input())\n",
    "result =[]\n",
    "for i in range(n):\n",
    "    a = int(input())\n",
    "    A = set(map(int,input().split()))\n",
    "    b = int(input())\n",
    "    B = set(map(int,input().split()))\n",
    "    if (B & A == A):\n",
    "        result.append(\"True\")\n",
    "    else:\n",
    "        result.append(\"False\")\n",
    "for i in result:\n",
    "    print(i)"
   ]
  },
  {
   "cell_type": "markdown",
   "metadata": {},
   "source": [
    "#### Check Strict Superset"
   ]
  },
  {
   "cell_type": "code",
   "execution_count": null,
   "metadata": {},
   "outputs": [],
   "source": [
    "# Enter your code here. Read input from STDIN. Print output to STDOUT\n",
    "A = set(map(int,input().split()))\n",
    "n = int(input())\n",
    "result = True\n",
    "for i in range (n):\n",
    "    B = set(map(int,input().split()))\n",
    "    if(A == B):\n",
    "        result = False\n",
    "        break\n",
    "    elif(A & B != B):\n",
    "        result = False\n",
    "        break\n",
    "    elif(A & B == B):\n",
    "        pass\n",
    "print(result)"
   ]
  },
  {
   "cell_type": "markdown",
   "metadata": {},
   "source": [
    "#### collections.Counter()"
   ]
  },
  {
   "cell_type": "code",
   "execution_count": null,
   "metadata": {},
   "outputs": [],
   "source": [
    "# Enter your code here. Read input from STDIN. Print output to STDOUT\n",
    "from collections import Counter\n",
    "X = int(input())\n",
    "shoes = Counter(list(map(int,input().split())))\n",
    "earnings = 0\n",
    "n = int(input())\n",
    "for i in range(n):\n",
    "    shoe,price = map(int,input().split())\n",
    "    if (shoe in shoes.keys()):\n",
    "        if(shoes[shoe]>0):\n",
    "            shoes[shoe]-=1\n",
    "            earnings+=price\n",
    "    else:\n",
    "        pass\n",
    "print(earnings)"
   ]
  },
  {
   "cell_type": "markdown",
   "metadata": {},
   "source": [
    "#### DefaultDict Tutorial"
   ]
  },
  {
   "cell_type": "code",
   "execution_count": null,
   "metadata": {},
   "outputs": [],
   "source": [
    "# Enter your code here. Read input from STDIN. Print output to STDOUT\n",
    "from collections import defaultdict\n",
    "D = defaultdict(list)\n",
    "n,m = map(int,input().split())\n",
    "for i in range (n):\n",
    "    D[\"A\"].append(input())\n",
    "for i in range (m):\n",
    "    D[\"B\"].append(input())\n",
    "\n",
    "for i in D[\"B\"]:\n",
    "    if i in D[\"A\"]:\n",
    "        for j in range(0,len(D[\"A\"])):\n",
    "            if i == D[\"A\"][j]:\n",
    "                print (j+1, end=' ')\n",
    "        print(\"\")\n",
    "    else:\n",
    "        print(-1)"
   ]
  },
  {
   "cell_type": "markdown",
   "metadata": {},
   "source": [
    "#### Collections.namedtuple()"
   ]
  },
  {
   "cell_type": "code",
   "execution_count": null,
   "metadata": {},
   "outputs": [],
   "source": [
    "# Enter your code here. Read input from STDIN. Print output to STDOUT\n",
    "from collections import namedtuple\n",
    "n = int(input())\n",
    "col = input().split()\n",
    "mark = col.index(\"MARKS\")\n",
    "student = namedtuple(\"student\", col)\n",
    "students=[]\n",
    "for i in range(n):\n",
    "    l = input().split()\n",
    "    students.append(student(l[0],l[1],l[2],l[3]))\n",
    "\n",
    "average = sum([int(i.MARKS) for i in students])/n\n",
    "print(\"{0:.2f}\".format(average))"
   ]
  },
  {
   "cell_type": "markdown",
   "metadata": {},
   "source": [
    "#### Collections.OrderedDict()"
   ]
  },
  {
   "cell_type": "code",
   "execution_count": null,
   "metadata": {},
   "outputs": [],
   "source": [
    "# Enter your code here. Read input from STDIN. Print output to STDOUT\n",
    "from collections import OrderedDict\n",
    "items = OrderedDict()\n",
    "n = int(input())\n",
    "for i in range(n):\n",
    "    l = input().split()\n",
    "    item = \" \".join(l[:len(l)-1])\n",
    "    price = int(l[-1])\n",
    "    if item in items.keys():\n",
    "        items[item]+=int(price)\n",
    "    else:\n",
    "        items[item]=int(price)\n",
    "\n",
    "for key,value in items.items():\n",
    "    print(key,value)"
   ]
  },
  {
   "cell_type": "markdown",
   "metadata": {},
   "source": [
    "#### Word Order"
   ]
  },
  {
   "cell_type": "code",
   "execution_count": null,
   "metadata": {},
   "outputs": [],
   "source": [
    "# Enter your code here. Read input from STDIN. Print output to STDOUT\n",
    "from collections import OrderedDict\n",
    "words = OrderedDict()\n",
    "n = int(input())\n",
    "for i in range(n):\n",
    "    w = input()\n",
    "    if w in words.keys():\n",
    "        words[w]+=1\n",
    "    else:\n",
    "        words[w]=1\n",
    "print(len(words))\n",
    "for key,value in words.items():\n",
    "    print(value,end=\" \")"
   ]
  },
  {
   "cell_type": "markdown",
   "metadata": {},
   "source": [
    "#### Collections.deque()"
   ]
  },
  {
   "cell_type": "code",
   "execution_count": null,
   "metadata": {},
   "outputs": [],
   "source": [
    "# Enter your code here. Read input from STDIN. Print output to STDOUT\n",
    "from collections import deque\n",
    "n = int(input())\n",
    "d = deque()\n",
    "for i in range(n):\n",
    "    l = input().split()\n",
    "    if(l[0].casefold()=='append'):\n",
    "        d.append(l[1])\n",
    "    elif(l[0].casefold()=='pop'):\n",
    "        d.pop()\n",
    "    elif(l[0].casefold()=='appendleft'):\n",
    "        d.appendleft(l[1])\n",
    "    elif(l[0].casefold()=='popleft'):\n",
    "        d.popleft()\n",
    "for i in range(0,len(d)):\n",
    "    print(d[i],end = \" \")"
   ]
  },
  {
   "cell_type": "markdown",
   "metadata": {},
   "source": [
    "#### Company Logo"
   ]
  },
  {
   "cell_type": "code",
   "execution_count": null,
   "metadata": {},
   "outputs": [],
   "source": [
    "#!/bin/python3\n",
    "\n",
    "import math\n",
    "import os\n",
    "import random\n",
    "import re\n",
    "import sys\n",
    "from collections import OrderedDict,defaultdict\n",
    "if __name__ == '__main__':\n",
    "    s = input()\n",
    "most = OrderedDict()\n",
    "S = list(s)\n",
    "for i in S:\n",
    "    if i in most.keys():\n",
    "        most[i]+=1\n",
    "    else:\n",
    "        most[i]=1\n",
    "most = OrderedDict(sorted(most.items(), key=lambda item: (item[1],item[0]),reverse=True) )\n",
    "result = defaultdict(list)\n",
    "for key,value in most.items():\n",
    "    result[value].append(key)\n",
    "temp =3\n",
    "for key,value in result.items():\n",
    "    value.sort()\n",
    "    for i in range(0,len(value)):\n",
    "        if(temp>0):\n",
    "            print(value[i],key)\n",
    "            temp-=1\n",
    "        else:\n",
    "            break"
   ]
  },
  {
   "cell_type": "markdown",
   "metadata": {},
   "source": [
    "#### Piling Up!"
   ]
  },
  {
   "cell_type": "code",
   "execution_count": null,
   "metadata": {},
   "outputs": [],
   "source": [
    "# Enter your code here. Read input from STDIN. Print output to STDOUT\n",
    "from collections import deque\n",
    "T = int(input())\n",
    "output = []\n",
    "for i in range(T):\n",
    "    n = int(input())\n",
    "    tempstack=deque( map(int,input().split()))\n",
    "    stack = deque()\n",
    "    pos = True\n",
    "    element = (2**31)+1\n",
    "    while tempstack:\n",
    "        left_element = tempstack[0]\n",
    "        right_element = tempstack[-1]\n",
    "        if left_element>=right_element and element>=left_element:\n",
    "            element = tempstack.popleft()\n",
    "        elif right_element>=left_element and element>=right_element:\n",
    "            element = tempstack.pop()\n",
    "        else:\n",
    "            pos = False\n",
    "            break\n",
    "    if pos:\n",
    "        print('Yes')\n",
    "    else:\n",
    "        print('No') "
   ]
  },
  {
   "cell_type": "markdown",
   "metadata": {},
   "source": [
    "#### Calendar Module"
   ]
  },
  {
   "cell_type": "code",
   "execution_count": null,
   "metadata": {},
   "outputs": [],
   "source": [
    "# Enter your code here. Read input from STDIN. Print output to STDOUT\n",
    "import calendar\n",
    "m,d,y = map(int,input().split())\n",
    "print(calendar.day_name[calendar.weekday(y,m,d)].upper())"
   ]
  },
  {
   "cell_type": "markdown",
   "metadata": {},
   "source": [
    "#### Time Delta"
   ]
  },
  {
   "cell_type": "code",
   "execution_count": null,
   "metadata": {},
   "outputs": [],
   "source": [
    "#!/bin/python3\n",
    "\n",
    "import math\n",
    "import os\n",
    "import random\n",
    "import re\n",
    "import sys\n",
    "from datetime import datetime\n",
    "# Complete the time_delta function below.\n",
    "def time_delta(t1, t2):\n",
    "    form = '%a %d %b %Y %H:%M:%S %z'\n",
    "    dif =(datetime.strptime(t1,form) - datetime.strptime(t2,form)).total_seconds()\n",
    "    return str(int(abs(dif)))\n",
    "if __name__ == '__main__':\n",
    "    fptr = open(os.environ['OUTPUT_PATH'], 'w')\n",
    "\n",
    "    t = int(input())\n",
    "\n",
    "    for t_itr in range(t):\n",
    "        t1 = input()\n",
    "\n",
    "        t2 = input()\n",
    "\n",
    "        delta = time_delta(t1, t2)\n",
    "\n",
    "        fptr.write(delta + '\\n')\n",
    "\n",
    "    fptr.close()"
   ]
  },
  {
   "cell_type": "code",
   "execution_count": 1,
   "metadata": {},
   "outputs": [
    {
     "data": {
      "text/plain": [
       "'C:\\\\Users\\\\Mohanraj'"
      ]
     },
     "execution_count": 1,
     "metadata": {},
     "output_type": "execute_result"
    }
   ],
   "source": [
    "import os\n",
    "os.getcwd()"
   ]
  },
  {
   "cell_type": "code",
   "execution_count": null,
   "metadata": {},
   "outputs": [],
   "source": []
  }
 ],
 "metadata": {
  "kernelspec": {
   "display_name": "Python 3",
   "language": "python",
   "name": "python3"
  },
  "language_info": {
   "codemirror_mode": {
    "name": "ipython",
    "version": 3
   },
   "file_extension": ".py",
   "mimetype": "text/x-python",
   "name": "python",
   "nbconvert_exporter": "python",
   "pygments_lexer": "ipython3",
   "version": "3.7.3"
  }
 },
 "nbformat": 4,
 "nbformat_minor": 2
}
